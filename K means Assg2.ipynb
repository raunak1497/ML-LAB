{
 "cells": [
  {
   "cell_type": "code",
   "execution_count": 7,
   "metadata": {},
   "outputs": [],
   "source": [
    "import numpy as np\n",
    "from sklearn.datasets import load_iris\n",
    "import pandas as pd\n",
    "import matplotlib.pyplot as plt\n",
    "import random\n",
    "\n",
    "\n",
    "data = load_iris()\n",
    "X = data['data']\n",
    "y  = data['target']\n",
    "\n",
    "# Number of clusters\n",
    "\n",
    "\n",
    "n = X.shape[0]\n",
    "c = X.shape[1]\n"
   ]
  },
  {
   "cell_type": "code",
   "execution_count": 8,
   "metadata": {},
   "outputs": [
    {
     "name": "stdout",
     "output_type": "stream",
     "text": [
      "58\n",
      "40\n",
      "42\n"
     ]
    },
    {
     "data": {
      "text/plain": [
       "array([[6.6, 2.9, 4.6, 1.3],\n",
       "       [5. , 3.5, 1.3, 0.3],\n",
       "       [4.4, 3.2, 1.3, 0.2]])"
      ]
     },
     "execution_count": 8,
     "metadata": {},
     "output_type": "execute_result"
    }
   ],
   "source": [
    "from copy import deepcopy\n",
    "\n",
    "K = 3\n",
    "\n",
    "\n",
    "centers = np.array([]).reshape(c,0)\n",
    "\n",
    "for i in range(K):\n",
    "    rand = random.randint(0,n-1)\n",
    "    print(rand)\n",
    "    centers = np.c_[centers,X[rand]]\n",
    "\n",
    "centers  = centers.transpose()\n",
    "centers = np.array(centers)\n",
    "\n",
    "centers_old = np.zeros(centers.shape) # to store old centers\n",
    "centers_new = deepcopy(centers) # Store new centers\n",
    "\n",
    "clusters = np.zeros(n)\n",
    "distances = np.zeros((n,K))\n",
    "centers_new"
   ]
  },
  {
   "cell_type": "code",
   "execution_count": 9,
   "metadata": {},
   "outputs": [],
   "source": [
    "from copy import deepcopy\n",
    "# When, after an update, the estimate of that center stays the same, exit loop\n",
    "error = np.linalg.norm(centers_new - centers_old)\n",
    "g=0\n",
    "  \n",
    "while error != 0:\n",
    "    # Measure the distance to every center\n",
    "    g=g+1\n",
    "    for i in range(K):\n",
    "        distances[:,i] = np.linalg.norm(X - centers_new[i], axis=1)\n",
    "    # Assign all training data to closest center\n",
    "    clusters = np.argmin(distances, axis = 1)\n",
    "   \n",
    "    centers_old =deepcopy(centers_new)\n",
    "    # Calculate mean for every cluster and update the center\n",
    "    for i in range(K):\n",
    "        centers_new[i] = np.mean(X[clusters == i], axis=0)\n",
    "    error = np.linalg.norm(centers_new - centers_old)\n",
    "\n"
   ]
  },
  {
   "cell_type": "code",
   "execution_count": 10,
   "metadata": {},
   "outputs": [
    {
     "name": "stdout",
     "output_type": "stream",
     "text": [
      "142.7540625\n",
      "7\n"
     ]
    }
   ],
   "source": [
    "min_dist_list=[]\n",
    "def wcss(distances):\n",
    "    min_dist_list.append((distances.min(axis=1))**2)\n",
    "    wcss_value=np.sum(min_dist_list)\n",
    "    return wcss_value\n",
    "\n",
    "       \n",
    "wcss_value=wcss(distances)\n",
    "print(wcss_value)\n",
    "print(g)"
   ]
  }
 ],
 "metadata": {
  "kernelspec": {
   "display_name": "Python 3",
   "language": "python",
   "name": "python3"
  },
  "language_info": {
   "codemirror_mode": {
    "name": "ipython",
    "version": 3
   },
   "file_extension": ".py",
   "mimetype": "text/x-python",
   "name": "python",
   "nbconvert_exporter": "python",
   "pygments_lexer": "ipython3",
   "version": "3.6.9"
  }
 },
 "nbformat": 4,
 "nbformat_minor": 4
}
