{
 "cells": [
  {
   "cell_type": "code",
   "execution_count": 2,
   "metadata": {},
   "outputs": [
    {
     "ename": "ImportError",
     "evalue": "No module named Pandas",
     "output_type": "error",
     "traceback": [
      "\u001b[0;31m---------------------------------------------------------------------------\u001b[0m",
      "\u001b[0;31mImportError\u001b[0m                               Traceback (most recent call last)",
      "\u001b[0;32m<ipython-input-2-f52d909a67e9>\u001b[0m in \u001b[0;36m<module>\u001b[0;34m()\u001b[0m\n\u001b[0;32m----> 1\u001b[0;31m \u001b[0;32mimport\u001b[0m \u001b[0mPandas\u001b[0m \u001b[0;32mas\u001b[0m \u001b[0mpd\u001b[0m\u001b[0;34m\u001b[0m\u001b[0m\n\u001b[0m\u001b[1;32m      2\u001b[0m \u001b[0;32mimport\u001b[0m \u001b[0mnumpy\u001b[0m \u001b[0;32mas\u001b[0m \u001b[0mnp\u001b[0m\u001b[0;34m\u001b[0m\u001b[0m\n\u001b[1;32m      3\u001b[0m \u001b[0;32mfrom\u001b[0m \u001b[0msklearn\u001b[0m \u001b[0;32mimport\u001b[0m \u001b[0mlinear_model\u001b[0m\u001b[0;34m\u001b[0m\u001b[0m\n\u001b[1;32m      4\u001b[0m \u001b[0;32mimport\u001b[0m \u001b[0mmatplotlib\u001b[0m\u001b[0;34m.\u001b[0m\u001b[0mpyplot\u001b[0m \u001b[0;32mas\u001b[0m \u001b[0mplt\u001b[0m\u001b[0;34m\u001b[0m\u001b[0m\n\u001b[1;32m      5\u001b[0m \u001b[0;32mimport\u001b[0m \u001b[0mmath\u001b[0m\u001b[0;34m\u001b[0m\u001b[0m\n",
      "\u001b[0;31mImportError\u001b[0m: No module named Pandas"
     ]
    }
   ],
   "source": [
    "import pandas as pd\n",
    "import numpy as np\n",
    "from sklearn import linear_model\n",
    "import matplotlib.pyplot as plt\n",
    "import math\n",
    "\n",
    "\n",
    "df = pd.read_csv('airfoil_self_noise.dat',sep='\\t',header = None)\n",
    "x1 = df.iloc[:,0]\n",
    "x2 = df.iloc[:,1]\n",
    "x3 = df.iloc[:,2]\n",
    "x4 = df.iloc[:,3]\n",
    "x5 = df.iloc[:,4]\n",
    "y  = df.iloc[:,5]\n",
    "\n",
    "\n",
    "\n",
    "x1 = (x1 - x1.mean())/x1.std()\n",
    "x2 = (x2 - x2.mean())/x2.std()\n",
    "x3 = (x3 - x3.mean())/x3.std()\n",
    "x4 = (x4 - x4.mean())/x4.std()\n",
    "x5 = (x5 - x5.mean())/x5.std()\n",
    "#y = (y - y.mean())/y.std()"
   ]
  },
  {
   "cell_type": "code",
   "execution_count": null,
   "metadata": {},
   "outputs": [],
   "source": []
  },
  {
   "cell_type": "code",
   "execution_count": null,
   "metadata": {},
   "outputs": [],
   "source": []
  },
  {
   "cell_type": "code",
   "execution_count": 2,
   "metadata": {},
   "outputs": [
    {
     "name": "stdout",
     "output_type": "stream",
     "text": [
      "124.83030352387084 -3.9976820223209675 -2.194527835377008 -3.211709738621747 1.5235126640747916 -2.1645891092237304 11.530537614326363 4.80219483451606\n"
     ]
    },
    {
     "data": {
      "text/plain": [
       "[<matplotlib.lines.Line2D at 0x7f0032683b90>]"
      ]
     },
     "execution_count": 2,
     "metadata": {},
     "output_type": "execute_result"
    },
    {
     "data": {
      "image/png": "[encoded data removed]",
      "text/plain": [
       "<Figure size 432x288 with 1 Axes>"
      ]
     },
     "metadata": {
      "needs_background": "light"
     },
     "output_type": "display_data"
    }
   ],
   "source": [
    "Q0=Q1=Q2=Q3=Q4=Q5=0\n",
    "\n",
    "learning_rate = 0.001\n",
    "iterations =10000\n",
    "\n",
    "n = float(len(y))\n",
    "cost = np.ones(iterations)\n",
    "rmse = np.ones(iterations)\n",
    "\n",
    "for i in range(iterations):\n",
    "  y_pred = Q0 + Q1*x1 + Q2*x2 + Q3*x3 + Q4*x4 + Q5*x5\n",
    "  cost[i] = (1/n)*(0.5)* sum(np.square(y_pred-y))\n",
    "  rmse[i] =  np.sqrt((np.square(y_pred - y)).mean())\n",
    "  D_Q0 = (1/n) * sum(y_pred-y)\n",
    "  D_Q1 = (1/n) * sum(x1*(y_pred-y))\n",
    "  D_Q2 = (1/n) * sum(x2*(y_pred-y))\n",
    "  D_Q3 = (1/n) * sum(x3*(y_pred-y))\n",
    "  D_Q4 = (1/n) * sum(x4*(y_pred-y))\n",
    "  D_Q5 = (1/n) * sum(x5*(y_pred-y))\n",
    "  Q0 = Q0 - learning_rate * D_Q0\n",
    "  Q1 = Q1 - learning_rate * D_Q1\n",
    "  Q2 = Q2 - learning_rate * D_Q2\n",
    "  Q3 = Q3 - learning_rate * D_Q3\n",
    "  Q4 = Q4 - learning_rate * D_Q4\n",
    "  Q5 = Q5 - learning_rate * D_Q5\n",
    "\n",
    "print(Q0,Q1,Q2,Q3,Q4,Q5,cost[iterations-1],rmse[iterations-1])\n",
    "\n",
    "cost = list(cost)\n",
    "n_iterations = [x for x in range(1,iterations+1)]\n",
    "plt.plot(n_iterations, cost)\n",
    "\n",
    "\n"
   ]
  }
 ],
 "metadata": {
  "kernelspec": {
   "display_name": "Python 2",
   "language": "python",
   "name": "python2"
  },
  "language_info": {
   "codemirror_mode": {
    "name": "ipython",
    "version": 3
   },
   "file_extension": ".py",
   "mimetype": "text/x-python",
   "name": "python",
   "nbconvert_exporter": "python",
   "pygments_lexer": "ipython3",
   "version": "3.6.9"
  }
 },
 "nbformat": 4,
 "nbformat_minor": 2
}
