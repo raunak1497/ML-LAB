{
 "cells": [
  {
   "cell_type": "code",
   "execution_count": null,
   "metadata": {},
   "outputs": [],
   "source": [
    "import panda as pd\n",
    "import numpy as np\n",
    "from sklearn import linear_model\n",
    "import matplotlib.pyplot as plt\n",
    "import math\n",
    "\n",
    "df=pd.read_csv('airfoil_self_noise.dat',sep='\\t',header=none)\n",
    "x1=df.iloc[:,0];\n",
    "x2=df.iloc[:,1];\n",
    "x3=df.iloc[:,2];\n",
    "x4=df.iloc[:,3];\n",
    "x5=df.iloc[:,4];\n",
    "y=df.iloc[:,5];\n",
    "\n",
    "\n",
    "x1=(x1-x1.mean())/x1.std();\n",
    "x2=(x2-x2.mean())/x2.std();\n",
    "x3=(x3-x3.mean())/x3.std();\n",
    "x4=(x4-x4.mean())/x4.std();\n",
    "x5=(x5-x5.mean())/x5.std();\n",
    "#y=(y-y.mean())/y.std();\n"
   ]
  },
  {
   "cell_type": "code",
   "execution_count": null,
   "metadata": {},
   "outputs": [],
   "source": [
    "Q0=Q1=Q2=Q3=Q4=Q5=0;\n",
    "\n",
    "learning_rate=0.001;\n",
    "iterations=1000;\n",
    "\n",
    "n=float(len(y));\n",
    "\n",
    "cost=np.ones(iterations);\n",
    "rmse=np.ones(iterations);\n",
    "\n",
    "for i in range(iterations):\n",
    "    y_pred = Q0 + Q1*x1 + Q2*x2 + Q3*x3 + Q4*x4 + Q5*x5;\n",
    "    cost[i]=(1/n)*(0.5)*sum(np.squarely(y_pred-y))\n",
    "    rmse[i]=np.sqrt((np.square(y_pred-y)).mean())\n",
    "    D_Q0 = (1/n)*sum(y_pred-y)\n",
    "    D_Q1 = (1/n)*sum(x1*(y_pred-y))\n",
    "    D_Q2 = (1/n)*sum(x2*(y_pred-y))\n",
    "    D_Q3 = (1/n)*sum(x3*(y_pred-y))\n",
    "    D_Q4 = (1/n)*sum(x4*(y_pred-y))\n",
    "    D_Q5 = (1/n)*sum(x5*(y_pred-y))\n",
    "    \n",
    "    Q0=Q0-learning_rate*D_Q0\n",
    "    Q1=Q1-learning_rate*D_Q1\n",
    "    Q2=Q2-learning_rate*D_Q2\n",
    "    Q3=Q3-learning_rate*D_Q3\n",
    "    Q4=Q4-learning_rate*D_Q4\n",
    "    Q5=Q5-learning_rate*D_Q5\n",
    "    \n",
    "    print(Q0,Q1,Q2,Q3,Q4,Q5,cost[iterations-1],rmse[iterations-1])\n",
    "    \n",
    "    cost=list(cost)\n",
    "    n_iterations = [x for x in range(1,iterations+1)]\n",
    "    plt.plot(n_iterations,cost)\n",
    "    "
   ]
  }
 ],
 "metadata": {
  "kernelspec": {
   "display_name": "Python 2",
   "language": "python",
   "name": "python2"
  },
  "language_info": {
   "codemirror_mode": {
    "name": "ipython",
    "version": 2
   },
   "file_extension": ".py",
   "mimetype": "text/x-python",
   "name": "python",
   "nbconvert_exporter": "python",
   "pygments_lexer": "ipython2",
   "version": "2.7.17"
  }
 },
 "nbformat": 4,
 "nbformat_minor": 2
}
